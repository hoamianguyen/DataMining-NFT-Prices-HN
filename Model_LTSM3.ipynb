{
 "cells": [
  {
   "cell_type": "code",
   "execution_count": 1,
   "metadata": {},
   "outputs": [],
   "source": [
    "import pandas as pd\n",
    "from collections import deque\n",
    "import numpy as np\n",
    "import tensorflow as tf\n",
    "from tensorflow.keras.models import Sequential\n",
    "from tensorflow.keras.layers import Dense, Dropout, LSTM, BatchNormalization\n",
    "from sklearn.preprocessing import StandardScaler\n",
    "import keras.backend as K\n",
    "from statistics import mean \n",
    "import matplotlib.pyplot as plt\n",
    "import warnings\n",
    "warnings.filterwarnings('ignore')\n",
    "from sklearn.preprocessing import MinMaxScaler\n",
    "from keras.models import Sequential\n",
    "from keras.layers import Dense, Dropout, LSTM, Bidirectional"
   ]
  },
  {
   "cell_type": "code",
   "execution_count": 2,
   "metadata": {},
   "outputs": [],
   "source": [
    "df = pd.read_csv('PrepDataset.csv')"
   ]
  },
  {
   "cell_type": "code",
   "execution_count": 3,
   "metadata": {},
   "outputs": [
    {
     "data": {
      "text/html": [
       "<div>\n",
       "<style scoped>\n",
       "    .dataframe tbody tr th:only-of-type {\n",
       "        vertical-align: middle;\n",
       "    }\n",
       "\n",
       "    .dataframe tbody tr th {\n",
       "        vertical-align: top;\n",
       "    }\n",
       "\n",
       "    .dataframe thead th {\n",
       "        text-align: right;\n",
       "    }\n",
       "</style>\n",
       "<table border=\"1\" class=\"dataframe\">\n",
       "  <thead>\n",
       "    <tr style=\"text-align: right;\">\n",
       "      <th></th>\n",
       "      <th>Unnamed: 0</th>\n",
       "      <th>ID_token</th>\n",
       "      <th>Seller_address</th>\n",
       "      <th>Buyer_address</th>\n",
       "      <th>Price_Crypto</th>\n",
       "      <th>Crypto</th>\n",
       "      <th>Price_USD</th>\n",
       "      <th>Collection</th>\n",
       "      <th>Market</th>\n",
       "      <th>Collection_cleaned</th>\n",
       "      <th>Category</th>\n",
       "      <th>Datetime_updated_minutes</th>\n",
       "      <th>Open</th>\n",
       "      <th>High</th>\n",
       "      <th>Low</th>\n",
       "      <th>Close</th>\n",
       "      <th>Volume</th>\n",
       "      <th>Transaction Volume</th>\n",
       "      <th>Average Price</th>\n",
       "      <th>Log Variance</th>\n",
       "    </tr>\n",
       "  </thead>\n",
       "  <tbody>\n",
       "    <tr>\n",
       "      <th>0</th>\n",
       "      <td>0</td>\n",
       "      <td>87094722.0</td>\n",
       "      <td>0x76481caa104b5f6bccb540dae4cefaf1c398ebea</td>\n",
       "      <td>0xe0fb7622091e3d9ef9b438471b10b9ea88c7cf6b</td>\n",
       "      <td>0.0002</td>\n",
       "      <td>ETH</td>\n",
       "      <td>0.030318</td>\n",
       "      <td>Godsunchained</td>\n",
       "      <td>Godsunchained</td>\n",
       "      <td>Godsunchained</td>\n",
       "      <td>Games</td>\n",
       "      <td>2019-11-30 23:59:00</td>\n",
       "      <td>151.98</td>\n",
       "      <td>151.98</td>\n",
       "      <td>151.80</td>\n",
       "      <td>151.80</td>\n",
       "      <td>1.0</td>\n",
       "      <td>8.024007</td>\n",
       "      <td>0.617231</td>\n",
       "      <td>0.001185</td>\n",
       "    </tr>\n",
       "    <tr>\n",
       "      <th>1</th>\n",
       "      <td>1</td>\n",
       "      <td>73044643.0</td>\n",
       "      <td>0x76481caa104b5f6bccb540dae4cefaf1c398ebea</td>\n",
       "      <td>0x2c00d05ff7ffe93d77145dfe12aa56e622ae6f40</td>\n",
       "      <td>0.0013</td>\n",
       "      <td>ETH</td>\n",
       "      <td>0.197067</td>\n",
       "      <td>Godsunchained</td>\n",
       "      <td>Godsunchained</td>\n",
       "      <td>Godsunchained</td>\n",
       "      <td>Games</td>\n",
       "      <td>2019-11-30 23:59:00</td>\n",
       "      <td>151.98</td>\n",
       "      <td>151.98</td>\n",
       "      <td>151.80</td>\n",
       "      <td>151.80</td>\n",
       "      <td>1.0</td>\n",
       "      <td>8.024007</td>\n",
       "      <td>0.617231</td>\n",
       "      <td>0.001185</td>\n",
       "    </tr>\n",
       "    <tr>\n",
       "      <th>2</th>\n",
       "      <td>2</td>\n",
       "      <td>17107482.0</td>\n",
       "      <td>0x76481caa104b5f6bccb540dae4cefaf1c398ebea</td>\n",
       "      <td>0xe0fb7622091e3d9ef9b438471b10b9ea88c7cf6b</td>\n",
       "      <td>0.0002</td>\n",
       "      <td>ETH</td>\n",
       "      <td>0.030318</td>\n",
       "      <td>Godsunchained</td>\n",
       "      <td>Godsunchained</td>\n",
       "      <td>Godsunchained</td>\n",
       "      <td>Games</td>\n",
       "      <td>2019-11-30 23:59:00</td>\n",
       "      <td>151.98</td>\n",
       "      <td>151.98</td>\n",
       "      <td>151.80</td>\n",
       "      <td>151.80</td>\n",
       "      <td>1.0</td>\n",
       "      <td>8.024007</td>\n",
       "      <td>0.617231</td>\n",
       "      <td>0.001185</td>\n",
       "    </tr>\n",
       "    <tr>\n",
       "      <th>3</th>\n",
       "      <td>3</td>\n",
       "      <td>82230857.0</td>\n",
       "      <td>0x76481caa104b5f6bccb540dae4cefaf1c398ebea</td>\n",
       "      <td>0x2c00d05ff7ffe93d77145dfe12aa56e622ae6f40</td>\n",
       "      <td>0.0022</td>\n",
       "      <td>ETH</td>\n",
       "      <td>0.333498</td>\n",
       "      <td>Godsunchained</td>\n",
       "      <td>Godsunchained</td>\n",
       "      <td>Godsunchained</td>\n",
       "      <td>Games</td>\n",
       "      <td>2019-11-30 23:59:00</td>\n",
       "      <td>151.98</td>\n",
       "      <td>151.98</td>\n",
       "      <td>151.80</td>\n",
       "      <td>151.80</td>\n",
       "      <td>1.0</td>\n",
       "      <td>8.024007</td>\n",
       "      <td>0.617231</td>\n",
       "      <td>0.001185</td>\n",
       "    </tr>\n",
       "    <tr>\n",
       "      <th>4</th>\n",
       "      <td>4</td>\n",
       "      <td>40925443.0</td>\n",
       "      <td>0x76481caa104b5f6bccb540dae4cefaf1c398ebea</td>\n",
       "      <td>0x2c00d05ff7ffe93d77145dfe12aa56e622ae6f40</td>\n",
       "      <td>0.0012</td>\n",
       "      <td>ETH</td>\n",
       "      <td>0.181908</td>\n",
       "      <td>Godsunchained</td>\n",
       "      <td>Godsunchained</td>\n",
       "      <td>Godsunchained</td>\n",
       "      <td>Games</td>\n",
       "      <td>2019-11-30 23:58:00</td>\n",
       "      <td>151.98</td>\n",
       "      <td>151.98</td>\n",
       "      <td>151.98</td>\n",
       "      <td>151.98</td>\n",
       "      <td>0.0</td>\n",
       "      <td>38.317541</td>\n",
       "      <td>2.947503</td>\n",
       "      <td>0.000000</td>\n",
       "    </tr>\n",
       "  </tbody>\n",
       "</table>\n",
       "</div>"
      ],
      "text/plain": [
       "   Unnamed: 0    ID_token                              Seller_address  \\\n",
       "0           0  87094722.0  0x76481caa104b5f6bccb540dae4cefaf1c398ebea   \n",
       "1           1  73044643.0  0x76481caa104b5f6bccb540dae4cefaf1c398ebea   \n",
       "2           2  17107482.0  0x76481caa104b5f6bccb540dae4cefaf1c398ebea   \n",
       "3           3  82230857.0  0x76481caa104b5f6bccb540dae4cefaf1c398ebea   \n",
       "4           4  40925443.0  0x76481caa104b5f6bccb540dae4cefaf1c398ebea   \n",
       "\n",
       "                                Buyer_address  Price_Crypto Crypto  Price_USD  \\\n",
       "0  0xe0fb7622091e3d9ef9b438471b10b9ea88c7cf6b        0.0002    ETH   0.030318   \n",
       "1  0x2c00d05ff7ffe93d77145dfe12aa56e622ae6f40        0.0013    ETH   0.197067   \n",
       "2  0xe0fb7622091e3d9ef9b438471b10b9ea88c7cf6b        0.0002    ETH   0.030318   \n",
       "3  0x2c00d05ff7ffe93d77145dfe12aa56e622ae6f40        0.0022    ETH   0.333498   \n",
       "4  0x2c00d05ff7ffe93d77145dfe12aa56e622ae6f40        0.0012    ETH   0.181908   \n",
       "\n",
       "      Collection         Market Collection_cleaned Category  \\\n",
       "0  Godsunchained  Godsunchained      Godsunchained    Games   \n",
       "1  Godsunchained  Godsunchained      Godsunchained    Games   \n",
       "2  Godsunchained  Godsunchained      Godsunchained    Games   \n",
       "3  Godsunchained  Godsunchained      Godsunchained    Games   \n",
       "4  Godsunchained  Godsunchained      Godsunchained    Games   \n",
       "\n",
       "  Datetime_updated_minutes    Open    High     Low   Close  Volume  \\\n",
       "0      2019-11-30 23:59:00  151.98  151.98  151.80  151.80     1.0   \n",
       "1      2019-11-30 23:59:00  151.98  151.98  151.80  151.80     1.0   \n",
       "2      2019-11-30 23:59:00  151.98  151.98  151.80  151.80     1.0   \n",
       "3      2019-11-30 23:59:00  151.98  151.98  151.80  151.80     1.0   \n",
       "4      2019-11-30 23:58:00  151.98  151.98  151.98  151.98     0.0   \n",
       "\n",
       "   Transaction Volume  Average Price  Log Variance  \n",
       "0            8.024007       0.617231      0.001185  \n",
       "1            8.024007       0.617231      0.001185  \n",
       "2            8.024007       0.617231      0.001185  \n",
       "3            8.024007       0.617231      0.001185  \n",
       "4           38.317541       2.947503      0.000000  "
      ]
     },
     "execution_count": 3,
     "metadata": {},
     "output_type": "execute_result"
    }
   ],
   "source": [
    "df.head()"
   ]
  },
  {
   "cell_type": "code",
   "execution_count": 4,
   "metadata": {},
   "outputs": [],
   "source": [
    "df=df.loc[(df['Crypto']=='ETH') | (df['Crypto']=='WAX')]"
   ]
  },
  {
   "cell_type": "code",
   "execution_count": 5,
   "metadata": {},
   "outputs": [],
   "source": [
    " df=pd.get_dummies(df, prefix=['Crypto'], columns=['Crypto'])"
   ]
  },
  {
   "cell_type": "code",
   "execution_count": 6,
   "metadata": {},
   "outputs": [],
   "source": [
    " df=pd.get_dummies(df, prefix=['Category'], columns=['Category'])"
   ]
  },
  {
   "cell_type": "code",
   "execution_count": 7,
   "metadata": {},
   "outputs": [],
   "source": [
    " df=pd.get_dummies(df, prefix=['Market'], columns=['Market'])"
   ]
  },
  {
   "cell_type": "code",
   "execution_count": 8,
   "metadata": {},
   "outputs": [],
   "source": [
    "df.loc[df['Buyer_address']=='0x0000000000000000000000000000000000000000', 'Private'] = 'Yes'"
   ]
  },
  {
   "cell_type": "code",
   "execution_count": 9,
   "metadata": {},
   "outputs": [],
   "source": [
    "df['Private'] = df['Private'].fillna('No')"
   ]
  },
  {
   "cell_type": "code",
   "execution_count": 10,
   "metadata": {},
   "outputs": [],
   "source": [
    "df=pd.get_dummies(df, prefix=['Private'], columns=['Private'])"
   ]
  },
  {
   "cell_type": "code",
   "execution_count": 11,
   "metadata": {},
   "outputs": [],
   "source": [
    "dfDay=df.groupby(['Datetime_updated_minutes'],as_index=False).sum()"
   ]
  },
  {
   "cell_type": "code",
   "execution_count": 12,
   "metadata": {},
   "outputs": [],
   "source": [
    "dfDay=dfDay[['Datetime_updated_minutes','Price_USD']]"
   ]
  },
  {
   "cell_type": "code",
   "execution_count": 13,
   "metadata": {},
   "outputs": [],
   "source": [
    "df=df.merge(dfDay, how='left',on=['Datetime_updated_minutes'])"
   ]
  },
  {
   "cell_type": "code",
   "execution_count": 14,
   "metadata": {},
   "outputs": [],
   "source": [
    "df.rename({'Price_USD_y': 'Volume_USD'}, axis=1, inplace=True)"
   ]
  },
  {
   "cell_type": "code",
   "execution_count": 15,
   "metadata": {},
   "outputs": [],
   "source": [
    "df.rename({'Price_USD_x': 'Price_USD'}, axis=1, inplace=True)"
   ]
  },
  {
   "cell_type": "code",
   "execution_count": 16,
   "metadata": {},
   "outputs": [
    {
     "data": {
      "text/html": [
       "<div>\n",
       "<style scoped>\n",
       "    .dataframe tbody tr th:only-of-type {\n",
       "        vertical-align: middle;\n",
       "    }\n",
       "\n",
       "    .dataframe tbody tr th {\n",
       "        vertical-align: top;\n",
       "    }\n",
       "\n",
       "    .dataframe thead th {\n",
       "        text-align: right;\n",
       "    }\n",
       "</style>\n",
       "<table border=\"1\" class=\"dataframe\">\n",
       "  <thead>\n",
       "    <tr style=\"text-align: right;\">\n",
       "      <th></th>\n",
       "      <th>Unnamed: 0</th>\n",
       "      <th>ID_token</th>\n",
       "      <th>Seller_address</th>\n",
       "      <th>Buyer_address</th>\n",
       "      <th>Price_Crypto</th>\n",
       "      <th>Price_USD</th>\n",
       "      <th>Collection</th>\n",
       "      <th>Collection_cleaned</th>\n",
       "      <th>Datetime_updated_minutes</th>\n",
       "      <th>Open</th>\n",
       "      <th>...</th>\n",
       "      <th>Category_Metaverse</th>\n",
       "      <th>Category_Other</th>\n",
       "      <th>Category_Utility</th>\n",
       "      <th>Market_Atomic</th>\n",
       "      <th>Market_Cryptokitties</th>\n",
       "      <th>Market_Godsunchained</th>\n",
       "      <th>Market_OpenSea</th>\n",
       "      <th>Private_No</th>\n",
       "      <th>Private_Yes</th>\n",
       "      <th>Volume_USD</th>\n",
       "    </tr>\n",
       "  </thead>\n",
       "  <tbody>\n",
       "    <tr>\n",
       "      <th>0</th>\n",
       "      <td>0</td>\n",
       "      <td>8.709472e+07</td>\n",
       "      <td>0x76481caa104b5f6bccb540dae4cefaf1c398ebea</td>\n",
       "      <td>0xe0fb7622091e3d9ef9b438471b10b9ea88c7cf6b</td>\n",
       "      <td>0.0002</td>\n",
       "      <td>0.030318</td>\n",
       "      <td>Godsunchained</td>\n",
       "      <td>Godsunchained</td>\n",
       "      <td>2019-11-30 23:59:00</td>\n",
       "      <td>151.98</td>\n",
       "      <td>...</td>\n",
       "      <td>0</td>\n",
       "      <td>0</td>\n",
       "      <td>0</td>\n",
       "      <td>0</td>\n",
       "      <td>0</td>\n",
       "      <td>1</td>\n",
       "      <td>0</td>\n",
       "      <td>1</td>\n",
       "      <td>0</td>\n",
       "      <td>22.203803</td>\n",
       "    </tr>\n",
       "    <tr>\n",
       "      <th>1</th>\n",
       "      <td>1</td>\n",
       "      <td>7.304464e+07</td>\n",
       "      <td>0x76481caa104b5f6bccb540dae4cefaf1c398ebea</td>\n",
       "      <td>0x2c00d05ff7ffe93d77145dfe12aa56e622ae6f40</td>\n",
       "      <td>0.0013</td>\n",
       "      <td>0.197067</td>\n",
       "      <td>Godsunchained</td>\n",
       "      <td>Godsunchained</td>\n",
       "      <td>2019-11-30 23:59:00</td>\n",
       "      <td>151.98</td>\n",
       "      <td>...</td>\n",
       "      <td>0</td>\n",
       "      <td>0</td>\n",
       "      <td>0</td>\n",
       "      <td>0</td>\n",
       "      <td>0</td>\n",
       "      <td>1</td>\n",
       "      <td>0</td>\n",
       "      <td>1</td>\n",
       "      <td>0</td>\n",
       "      <td>22.203803</td>\n",
       "    </tr>\n",
       "    <tr>\n",
       "      <th>2</th>\n",
       "      <td>2</td>\n",
       "      <td>1.710748e+07</td>\n",
       "      <td>0x76481caa104b5f6bccb540dae4cefaf1c398ebea</td>\n",
       "      <td>0xe0fb7622091e3d9ef9b438471b10b9ea88c7cf6b</td>\n",
       "      <td>0.0002</td>\n",
       "      <td>0.030318</td>\n",
       "      <td>Godsunchained</td>\n",
       "      <td>Godsunchained</td>\n",
       "      <td>2019-11-30 23:59:00</td>\n",
       "      <td>151.98</td>\n",
       "      <td>...</td>\n",
       "      <td>0</td>\n",
       "      <td>0</td>\n",
       "      <td>0</td>\n",
       "      <td>0</td>\n",
       "      <td>0</td>\n",
       "      <td>1</td>\n",
       "      <td>0</td>\n",
       "      <td>1</td>\n",
       "      <td>0</td>\n",
       "      <td>22.203803</td>\n",
       "    </tr>\n",
       "    <tr>\n",
       "      <th>3</th>\n",
       "      <td>3</td>\n",
       "      <td>8.223086e+07</td>\n",
       "      <td>0x76481caa104b5f6bccb540dae4cefaf1c398ebea</td>\n",
       "      <td>0x2c00d05ff7ffe93d77145dfe12aa56e622ae6f40</td>\n",
       "      <td>0.0022</td>\n",
       "      <td>0.333498</td>\n",
       "      <td>Godsunchained</td>\n",
       "      <td>Godsunchained</td>\n",
       "      <td>2019-11-30 23:59:00</td>\n",
       "      <td>151.98</td>\n",
       "      <td>...</td>\n",
       "      <td>0</td>\n",
       "      <td>0</td>\n",
       "      <td>0</td>\n",
       "      <td>0</td>\n",
       "      <td>0</td>\n",
       "      <td>1</td>\n",
       "      <td>0</td>\n",
       "      <td>1</td>\n",
       "      <td>0</td>\n",
       "      <td>22.203803</td>\n",
       "    </tr>\n",
       "    <tr>\n",
       "      <th>4</th>\n",
       "      <td>4</td>\n",
       "      <td>4.092544e+07</td>\n",
       "      <td>0x76481caa104b5f6bccb540dae4cefaf1c398ebea</td>\n",
       "      <td>0x2c00d05ff7ffe93d77145dfe12aa56e622ae6f40</td>\n",
       "      <td>0.0012</td>\n",
       "      <td>0.181908</td>\n",
       "      <td>Godsunchained</td>\n",
       "      <td>Godsunchained</td>\n",
       "      <td>2019-11-30 23:58:00</td>\n",
       "      <td>151.98</td>\n",
       "      <td>...</td>\n",
       "      <td>0</td>\n",
       "      <td>0</td>\n",
       "      <td>0</td>\n",
       "      <td>0</td>\n",
       "      <td>0</td>\n",
       "      <td>1</td>\n",
       "      <td>0</td>\n",
       "      <td>1</td>\n",
       "      <td>0</td>\n",
       "      <td>33.410436</td>\n",
       "    </tr>\n",
       "    <tr>\n",
       "      <th>...</th>\n",
       "      <td>...</td>\n",
       "      <td>...</td>\n",
       "      <td>...</td>\n",
       "      <td>...</td>\n",
       "      <td>...</td>\n",
       "      <td>...</td>\n",
       "      <td>...</td>\n",
       "      <td>...</td>\n",
       "      <td>...</td>\n",
       "      <td>...</td>\n",
       "      <td>...</td>\n",
       "      <td>...</td>\n",
       "      <td>...</td>\n",
       "      <td>...</td>\n",
       "      <td>...</td>\n",
       "      <td>...</td>\n",
       "      <td>...</td>\n",
       "      <td>...</td>\n",
       "      <td>...</td>\n",
       "      <td>...</td>\n",
       "      <td>...</td>\n",
       "    </tr>\n",
       "    <tr>\n",
       "      <th>5590164</th>\n",
       "      <td>6062739</td>\n",
       "      <td>1.641200e+04</td>\n",
       "      <td>0x9f37284b3a538be8eea2d401b595f44c96d39b70</td>\n",
       "      <td>0xa353401738e7ec6a4db9c0ee4c66eb5252f681c4</td>\n",
       "      <td>0.5000</td>\n",
       "      <td>967.707500</td>\n",
       "      <td>Superrare</td>\n",
       "      <td>Superrare</td>\n",
       "      <td>2021-04-01 00:00:00</td>\n",
       "      <td>1918.91</td>\n",
       "      <td>...</td>\n",
       "      <td>0</td>\n",
       "      <td>0</td>\n",
       "      <td>0</td>\n",
       "      <td>0</td>\n",
       "      <td>0</td>\n",
       "      <td>0</td>\n",
       "      <td>1</td>\n",
       "      <td>1</td>\n",
       "      <td>0</td>\n",
       "      <td>1495.156469</td>\n",
       "    </tr>\n",
       "    <tr>\n",
       "      <th>5590165</th>\n",
       "      <td>6062740</td>\n",
       "      <td>1.062274e+77</td>\n",
       "      <td>0xeada96bf164643bdfe3e657a9f380854694a49dd</td>\n",
       "      <td>0xe2fe53f9bcb33e3e0fc65f2f627ca4eb8e958347</td>\n",
       "      <td>0.0500</td>\n",
       "      <td>96.770750</td>\n",
       "      <td>Kawaii-monsters</td>\n",
       "      <td>Kawaiimonster</td>\n",
       "      <td>2021-04-01 00:00:00</td>\n",
       "      <td>1918.91</td>\n",
       "      <td>...</td>\n",
       "      <td>0</td>\n",
       "      <td>1</td>\n",
       "      <td>0</td>\n",
       "      <td>0</td>\n",
       "      <td>0</td>\n",
       "      <td>0</td>\n",
       "      <td>1</td>\n",
       "      <td>1</td>\n",
       "      <td>0</td>\n",
       "      <td>1495.156469</td>\n",
       "    </tr>\n",
       "    <tr>\n",
       "      <th>5590166</th>\n",
       "      <td>6062741</td>\n",
       "      <td>4.602588e+76</td>\n",
       "      <td>0x65c1b9ae4e4d8dcccfd3dc41b940840fe8570f2a</td>\n",
       "      <td>0x220d20310f52d97e353028ebd742d2c690eaf0a1</td>\n",
       "      <td>0.0185</td>\n",
       "      <td>35.805177</td>\n",
       "      <td>Moe-tokens</td>\n",
       "      <td>Moetoken</td>\n",
       "      <td>2021-04-01 00:00:00</td>\n",
       "      <td>1918.91</td>\n",
       "      <td>...</td>\n",
       "      <td>0</td>\n",
       "      <td>1</td>\n",
       "      <td>0</td>\n",
       "      <td>0</td>\n",
       "      <td>0</td>\n",
       "      <td>0</td>\n",
       "      <td>1</td>\n",
       "      <td>1</td>\n",
       "      <td>0</td>\n",
       "      <td>1495.156469</td>\n",
       "    </tr>\n",
       "    <tr>\n",
       "      <th>5590167</th>\n",
       "      <td>6062742</td>\n",
       "      <td>8.060875e+76</td>\n",
       "      <td>0xb236f00808a9f88b3117af95c881966288dfbcbb</td>\n",
       "      <td>0xd543a0be0684f0556786586b83f4c9fd16a4dc35</td>\n",
       "      <td>0.0100</td>\n",
       "      <td>19.354150</td>\n",
       "      <td>Not-fun-tokens</td>\n",
       "      <td>Notfuntoken</td>\n",
       "      <td>2021-04-01 00:00:00</td>\n",
       "      <td>1918.91</td>\n",
       "      <td>...</td>\n",
       "      <td>0</td>\n",
       "      <td>1</td>\n",
       "      <td>0</td>\n",
       "      <td>0</td>\n",
       "      <td>0</td>\n",
       "      <td>0</td>\n",
       "      <td>1</td>\n",
       "      <td>1</td>\n",
       "      <td>0</td>\n",
       "      <td>1495.156469</td>\n",
       "    </tr>\n",
       "    <tr>\n",
       "      <th>5590168</th>\n",
       "      <td>6062743</td>\n",
       "      <td>8.060875e+76</td>\n",
       "      <td>0xb236f00808a9f88b3117af95c881966288dfbcbb</td>\n",
       "      <td>0xd543a0be0684f0556786586b83f4c9fd16a4dc35</td>\n",
       "      <td>0.0100</td>\n",
       "      <td>19.354150</td>\n",
       "      <td>Not-fun-tokens</td>\n",
       "      <td>Notfuntoken</td>\n",
       "      <td>2021-04-01 00:00:00</td>\n",
       "      <td>1918.91</td>\n",
       "      <td>...</td>\n",
       "      <td>0</td>\n",
       "      <td>1</td>\n",
       "      <td>0</td>\n",
       "      <td>0</td>\n",
       "      <td>0</td>\n",
       "      <td>0</td>\n",
       "      <td>1</td>\n",
       "      <td>1</td>\n",
       "      <td>0</td>\n",
       "      <td>1495.156469</td>\n",
       "    </tr>\n",
       "  </tbody>\n",
       "</table>\n",
       "<p>5420406 rows × 32 columns</p>\n",
       "</div>"
      ],
      "text/plain": [
       "         Unnamed: 0      ID_token                              Seller_address  \\\n",
       "0                 0  8.709472e+07  0x76481caa104b5f6bccb540dae4cefaf1c398ebea   \n",
       "1                 1  7.304464e+07  0x76481caa104b5f6bccb540dae4cefaf1c398ebea   \n",
       "2                 2  1.710748e+07  0x76481caa104b5f6bccb540dae4cefaf1c398ebea   \n",
       "3                 3  8.223086e+07  0x76481caa104b5f6bccb540dae4cefaf1c398ebea   \n",
       "4                 4  4.092544e+07  0x76481caa104b5f6bccb540dae4cefaf1c398ebea   \n",
       "...             ...           ...                                         ...   \n",
       "5590164     6062739  1.641200e+04  0x9f37284b3a538be8eea2d401b595f44c96d39b70   \n",
       "5590165     6062740  1.062274e+77  0xeada96bf164643bdfe3e657a9f380854694a49dd   \n",
       "5590166     6062741  4.602588e+76  0x65c1b9ae4e4d8dcccfd3dc41b940840fe8570f2a   \n",
       "5590167     6062742  8.060875e+76  0xb236f00808a9f88b3117af95c881966288dfbcbb   \n",
       "5590168     6062743  8.060875e+76  0xb236f00808a9f88b3117af95c881966288dfbcbb   \n",
       "\n",
       "                                      Buyer_address  Price_Crypto   Price_USD  \\\n",
       "0        0xe0fb7622091e3d9ef9b438471b10b9ea88c7cf6b        0.0002    0.030318   \n",
       "1        0x2c00d05ff7ffe93d77145dfe12aa56e622ae6f40        0.0013    0.197067   \n",
       "2        0xe0fb7622091e3d9ef9b438471b10b9ea88c7cf6b        0.0002    0.030318   \n",
       "3        0x2c00d05ff7ffe93d77145dfe12aa56e622ae6f40        0.0022    0.333498   \n",
       "4        0x2c00d05ff7ffe93d77145dfe12aa56e622ae6f40        0.0012    0.181908   \n",
       "...                                             ...           ...         ...   \n",
       "5590164  0xa353401738e7ec6a4db9c0ee4c66eb5252f681c4        0.5000  967.707500   \n",
       "5590165  0xe2fe53f9bcb33e3e0fc65f2f627ca4eb8e958347        0.0500   96.770750   \n",
       "5590166  0x220d20310f52d97e353028ebd742d2c690eaf0a1        0.0185   35.805177   \n",
       "5590167  0xd543a0be0684f0556786586b83f4c9fd16a4dc35        0.0100   19.354150   \n",
       "5590168  0xd543a0be0684f0556786586b83f4c9fd16a4dc35        0.0100   19.354150   \n",
       "\n",
       "              Collection Collection_cleaned Datetime_updated_minutes     Open  \\\n",
       "0          Godsunchained      Godsunchained      2019-11-30 23:59:00   151.98   \n",
       "1          Godsunchained      Godsunchained      2019-11-30 23:59:00   151.98   \n",
       "2          Godsunchained      Godsunchained      2019-11-30 23:59:00   151.98   \n",
       "3          Godsunchained      Godsunchained      2019-11-30 23:59:00   151.98   \n",
       "4          Godsunchained      Godsunchained      2019-11-30 23:58:00   151.98   \n",
       "...                  ...                ...                      ...      ...   \n",
       "5590164        Superrare          Superrare      2021-04-01 00:00:00  1918.91   \n",
       "5590165  Kawaii-monsters      Kawaiimonster      2021-04-01 00:00:00  1918.91   \n",
       "5590166       Moe-tokens           Moetoken      2021-04-01 00:00:00  1918.91   \n",
       "5590167   Not-fun-tokens        Notfuntoken      2021-04-01 00:00:00  1918.91   \n",
       "5590168   Not-fun-tokens        Notfuntoken      2021-04-01 00:00:00  1918.91   \n",
       "\n",
       "         ...  Category_Metaverse  Category_Other  Category_Utility  \\\n",
       "0        ...                   0               0                 0   \n",
       "1        ...                   0               0                 0   \n",
       "2        ...                   0               0                 0   \n",
       "3        ...                   0               0                 0   \n",
       "4        ...                   0               0                 0   \n",
       "...      ...                 ...             ...               ...   \n",
       "5590164  ...                   0               0                 0   \n",
       "5590165  ...                   0               1                 0   \n",
       "5590166  ...                   0               1                 0   \n",
       "5590167  ...                   0               1                 0   \n",
       "5590168  ...                   0               1                 0   \n",
       "\n",
       "         Market_Atomic  Market_Cryptokitties  Market_Godsunchained  \\\n",
       "0                    0                     0                     1   \n",
       "1                    0                     0                     1   \n",
       "2                    0                     0                     1   \n",
       "3                    0                     0                     1   \n",
       "4                    0                     0                     1   \n",
       "...                ...                   ...                   ...   \n",
       "5590164              0                     0                     0   \n",
       "5590165              0                     0                     0   \n",
       "5590166              0                     0                     0   \n",
       "5590167              0                     0                     0   \n",
       "5590168              0                     0                     0   \n",
       "\n",
       "         Market_OpenSea  Private_No  Private_Yes   Volume_USD  \n",
       "0                     0           1            0    22.203803  \n",
       "1                     0           1            0    22.203803  \n",
       "2                     0           1            0    22.203803  \n",
       "3                     0           1            0    22.203803  \n",
       "4                     0           1            0    33.410436  \n",
       "...                 ...         ...          ...          ...  \n",
       "5590164               1           1            0  1495.156469  \n",
       "5590165               1           1            0  1495.156469  \n",
       "5590166               1           1            0  1495.156469  \n",
       "5590167               1           1            0  1495.156469  \n",
       "5590168               1           1            0  1495.156469  \n",
       "\n",
       "[5420406 rows x 32 columns]"
      ]
     },
     "execution_count": 16,
     "metadata": {},
     "output_type": "execute_result"
    }
   ],
   "source": [
    "df.loc[(df['Volume_USD']>1) & (df['Price_USD']<2600000)]"
   ]
  },
  {
   "cell_type": "code",
   "execution_count": 17,
   "metadata": {},
   "outputs": [],
   "source": [
    "Countdf = df.groupby(['ID_token','Datetime_updated_minutes'],as_index=False).count()"
   ]
  },
  {
   "cell_type": "code",
   "execution_count": 18,
   "metadata": {},
   "outputs": [],
   "source": [
    "Countdf=Countdf[['ID_token','Datetime_updated_minutes','Category_Art','Category_Collectible', 'Category_Utility','Private_Yes',]]"
   ]
  },
  {
   "cell_type": "code",
   "execution_count": 19,
   "metadata": {},
   "outputs": [],
   "source": [
    "Countdf.rename({'Category_Art': 'Count_Art','Category_Collectible':'Count_Col','Category_Utility':'Count_Util','Private_Yes':'Count_Private'}, axis=1, inplace=True)"
   ]
  },
  {
   "cell_type": "code",
   "execution_count": 20,
   "metadata": {},
   "outputs": [],
   "source": [
    "df=df.merge(Countdf, how='left', on=['ID_token','Datetime_updated_minutes'])"
   ]
  },
  {
   "cell_type": "code",
   "execution_count": 21,
   "metadata": {},
   "outputs": [],
   "source": [
    "Playerdf = df.groupby(['Buyer_address'],as_index=False).count()"
   ]
  },
  {
   "cell_type": "code",
   "execution_count": 22,
   "metadata": {},
   "outputs": [],
   "source": [
    "Playerdf = Playerdf[['Buyer_address','ID_token']]"
   ]
  },
  {
   "cell_type": "code",
   "execution_count": 23,
   "metadata": {},
   "outputs": [],
   "source": [
    "Playerdf.rename({'ID_token':'Player_Buyer'}, axis=1, inplace=True)"
   ]
  },
  {
   "cell_type": "code",
   "execution_count": 24,
   "metadata": {},
   "outputs": [],
   "source": [
    "df=df.merge(Playerdf, how='left', on=['Buyer_address'])"
   ]
  },
  {
   "cell_type": "code",
   "execution_count": 25,
   "metadata": {},
   "outputs": [],
   "source": [
    "PlayerSellerdf = df.groupby(['Seller_address'],as_index=False).count()"
   ]
  },
  {
   "cell_type": "code",
   "execution_count": 26,
   "metadata": {},
   "outputs": [],
   "source": [
    "PlayerSellerdf = PlayerSellerdf[['Seller_address','ID_token']]"
   ]
  },
  {
   "cell_type": "code",
   "execution_count": 27,
   "metadata": {},
   "outputs": [],
   "source": [
    "PlayerSellerdf.rename({'ID_token':'Player_Seller'}, axis=1, inplace=True)"
   ]
  },
  {
   "cell_type": "code",
   "execution_count": 28,
   "metadata": {},
   "outputs": [],
   "source": [
    "df=df.merge(PlayerSellerdf, how='left', on=['Seller_address'])"
   ]
  },
  {
   "cell_type": "code",
   "execution_count": 29,
   "metadata": {},
   "outputs": [],
   "source": [
    "IDs=df['ID_token'].tolist()"
   ]
  },
  {
   "cell_type": "code",
   "execution_count": 30,
   "metadata": {},
   "outputs": [],
   "source": [
    "Price=df['Price_USD'].tolist()"
   ]
  },
  {
   "cell_type": "code",
   "execution_count": 31,
   "metadata": {},
   "outputs": [],
   "source": [
    "dic={}\n",
    "Past_Price=[]\n",
    "for i,a in zip(IDs,Price):\n",
    "    if i in dic.keys():\n",
    "        Past_Price.append(dic[i])\n",
    "        dic[i]=a\n",
    "    else:\n",
    "        dic[i]=a\n",
    "        Past_Price.append(0)"
   ]
  },
  {
   "cell_type": "code",
   "execution_count": 32,
   "metadata": {},
   "outputs": [],
   "source": [
    "df['Past_Price']=Past_Price"
   ]
  },
  {
   "cell_type": "code",
   "execution_count": 33,
   "metadata": {},
   "outputs": [
    {
     "data": {
      "text/plain": [
       "Index(['Unnamed: 0', 'ID_token', 'Seller_address', 'Buyer_address',\n",
       "       'Price_Crypto', 'Price_USD', 'Collection', 'Collection_cleaned',\n",
       "       'Datetime_updated_minutes', 'Open', 'High', 'Low', 'Close', 'Volume',\n",
       "       'Transaction Volume', 'Average Price', 'Log Variance', 'Crypto_ETH',\n",
       "       'Crypto_WAX', 'Category_Art', 'Category_Collectible', 'Category_Games',\n",
       "       'Category_Metaverse', 'Category_Other', 'Category_Utility',\n",
       "       'Market_Atomic', 'Market_Cryptokitties', 'Market_Godsunchained',\n",
       "       'Market_OpenSea', 'Private_No', 'Private_Yes', 'Volume_USD',\n",
       "       'Count_Art', 'Count_Col', 'Count_Util', 'Count_Private', 'Player_Buyer',\n",
       "       'Player_Seller', 'Past_Price'],\n",
       "      dtype='object')"
      ]
     },
     "execution_count": 33,
     "metadata": {},
     "output_type": "execute_result"
    }
   ],
   "source": [
    "df.columns"
   ]
  },
  {
   "cell_type": "code",
   "execution_count": 34,
   "metadata": {},
   "outputs": [],
   "source": [
    "df=df.fillna(0)"
   ]
  },
  {
   "cell_type": "code",
   "execution_count": 35,
   "metadata": {},
   "outputs": [],
   "source": [
    "df['date_day']=df['Datetime_updated_minutes'].str[:10]"
   ]
  },
  {
   "cell_type": "code",
   "execution_count": 36,
   "metadata": {},
   "outputs": [],
   "source": [
    "df['date'] = pd.to_datetime(df['date_day'],infer_datetime_format=True)"
   ]
  },
  {
   "cell_type": "code",
   "execution_count": 37,
   "metadata": {},
   "outputs": [],
   "source": [
    "dfOnlyDay=df.groupby(['date'],as_index=True).mean()"
   ]
  },
  {
   "cell_type": "code",
   "execution_count": 38,
   "metadata": {},
   "outputs": [],
   "source": [
    "Ms = MinMaxScaler()\n",
    "dfOnlyDay[dfOnlyDay.columns] = Ms.fit_transform(dfOnlyDay )"
   ]
  },
  {
   "cell_type": "code",
   "execution_count": 39,
   "metadata": {},
   "outputs": [],
   "source": [
    "col_names=['Price_USD','Log Variance','Count_Art','Count_Col', 'Count_Util','Count_Private', 'Volume_USD']\n",
    "df_LSTM=dfOnlyDay[col_names]"
   ]
  },
  {
   "cell_type": "raw",
   "metadata": {},
   "source": [
    "df_LSTM"
   ]
  },
  {
   "cell_type": "code",
   "execution_count": 40,
   "metadata": {},
   "outputs": [],
   "source": [
    "size=round(len(dfOnlyDay)*0.60)\n",
    "train_df = df_LSTM[:size]\n",
    "validation_df = df_LSTM[size:]"
   ]
  },
  {
   "cell_type": "code",
   "execution_count": 41,
   "metadata": {},
   "outputs": [],
   "source": [
    "train_x = []\n",
    "train_y = []\n",
    "validation_x = []\n",
    "validation_y = []\n",
    "val_y_true=[]"
   ]
  },
  {
   "cell_type": "code",
   "execution_count": 42,
   "metadata": {},
   "outputs": [],
   "source": [
    "historical_period=45\n",
    "data = [] \n",
    "hist_days = deque(maxlen=historical_period)  \n",
    "\n",
    "for i in train_df.values:  \n",
    "    hist_days.append([n for n in i[1:]])  \n",
    "    if len(hist_days) == historical_period:  \n",
    "        data.append([np.array(hist_days), i[0]]) \n",
    "\n",
    "for inputs, target in data: \n",
    "    train_x.append(inputs)  \n",
    "    train_y.append(target)\n",
    "\n",
    "train_x=np.array(train_x)\n",
    "train_y=np.array(train_y)"
   ]
  },
  {
   "cell_type": "code",
   "execution_count": 43,
   "metadata": {},
   "outputs": [],
   "source": [
    "#Create validation Data\n",
    "data = [] \n",
    "hist_days = deque(maxlen=historical_period)  \n",
    "\n",
    "for i in validation_df.values:  \n",
    "    hist_days.append([n for n in i[1:]])  \n",
    "    if len(hist_days) == historical_period:  \n",
    "        data.append([np.array(hist_days), i[0], i[0]])  \n",
    "\n",
    "for inputs, target,var_to_predict in data: \n",
    "    validation_x.append(inputs)  \n",
    "    validation_y.append(target)    \n",
    "    \n",
    "validation_x=np.array(validation_x)\n",
    "validation_y=np.array(validation_y)"
   ]
  },
  {
   "cell_type": "code",
   "execution_count": 44,
   "metadata": {},
   "outputs": [
    {
     "name": "stdout",
     "output_type": "stream",
     "text": [
      "Model: \"sequential\"\n",
      "_________________________________________________________________\n",
      " Layer (type)                Output Shape              Param #   \n",
      "=================================================================\n",
      " lstm (LSTM)                 (None, 45, 50)            11400     \n",
      "                                                                 \n",
      " dropout (Dropout)           (None, 45, 50)            0         \n",
      "                                                                 \n",
      " lstm_1 (LSTM)               (None, 50)                20200     \n",
      "                                                                 \n",
      " dense (Dense)               (None, 2)                 102       \n",
      "                                                                 \n",
      "=================================================================\n",
      "Total params: 31,702\n",
      "Trainable params: 31,702\n",
      "Non-trainable params: 0\n",
      "_________________________________________________________________\n"
     ]
    }
   ],
   "source": [
    "model = Sequential()\n",
    "model.add(LSTM(units=50, return_sequences=True, input_shape = (train_x.shape[1:])))\n",
    "\n",
    "model.add(Dropout(0.1)) \n",
    "model.add(LSTM(units=50))\n",
    "\n",
    "model.add(Dense(2))\n",
    "\n",
    "model.compile(loss='mean_squared_error', optimizer='adam', metrics=['mean_absolute_error'])\n",
    "\n",
    "model.summary()"
   ]
  },
  {
   "cell_type": "code",
   "execution_count": 45,
   "metadata": {},
   "outputs": [
    {
     "name": "stdout",
     "output_type": "stream",
     "text": [
      "Epoch 1/50\n",
      "23/23 [==============================] - 10s 37ms/step - loss: 5.8710e-04 - mean_absolute_error: 0.0133\n",
      "Epoch 2/50\n",
      "23/23 [==============================] - 1s 38ms/step - loss: 5.3778e-04 - mean_absolute_error: 0.0119\n",
      "Epoch 3/50\n",
      "23/23 [==============================] - 1s 37ms/step - loss: 5.1806e-04 - mean_absolute_error: 0.0117\n",
      "Epoch 4/50\n",
      "23/23 [==============================] - 1s 38ms/step - loss: 5.1187e-04 - mean_absolute_error: 0.0115\n",
      "Epoch 5/50\n",
      "23/23 [==============================] - 1s 37ms/step - loss: 5.0867e-04 - mean_absolute_error: 0.0116\n",
      "Epoch 6/50\n",
      "23/23 [==============================] - 1s 37ms/step - loss: 5.1377e-04 - mean_absolute_error: 0.0120\n",
      "Epoch 7/50\n",
      "23/23 [==============================] - 1s 39ms/step - loss: 5.1197e-04 - mean_absolute_error: 0.0117\n",
      "Epoch 8/50\n",
      "23/23 [==============================] - 1s 37ms/step - loss: 4.8303e-04 - mean_absolute_error: 0.0115\n",
      "Epoch 9/50\n",
      "23/23 [==============================] - 1s 41ms/step - loss: 4.8033e-04 - mean_absolute_error: 0.0116\n",
      "Epoch 10/50\n",
      "23/23 [==============================] - 1s 37ms/step - loss: 4.6407e-04 - mean_absolute_error: 0.0112\n",
      "Epoch 11/50\n",
      "23/23 [==============================] - 1s 37ms/step - loss: 4.7863e-04 - mean_absolute_error: 0.0114\n",
      "Epoch 12/50\n",
      "23/23 [==============================] - 1s 38ms/step - loss: 4.5246e-04 - mean_absolute_error: 0.0110\n",
      "Epoch 13/50\n",
      "23/23 [==============================] - 1s 39ms/step - loss: 4.5124e-04 - mean_absolute_error: 0.0107\n",
      "Epoch 14/50\n",
      "23/23 [==============================] - 1s 38ms/step - loss: 4.5017e-04 - mean_absolute_error: 0.0110\n",
      "Epoch 15/50\n",
      "23/23 [==============================] - 1s 38ms/step - loss: 4.4040e-04 - mean_absolute_error: 0.0102\n",
      "Epoch 16/50\n",
      "23/23 [==============================] - 1s 39ms/step - loss: 4.1556e-04 - mean_absolute_error: 0.0101\n",
      "Epoch 17/50\n",
      "23/23 [==============================] - 1s 38ms/step - loss: 4.1103e-04 - mean_absolute_error: 0.0104\n",
      "Epoch 18/50\n",
      "23/23 [==============================] - 1s 37ms/step - loss: 4.2463e-04 - mean_absolute_error: 0.0106\n",
      "Epoch 19/50\n",
      "23/23 [==============================] - 1s 37ms/step - loss: 4.0146e-04 - mean_absolute_error: 0.0096\n",
      "Epoch 20/50\n",
      "23/23 [==============================] - 1s 37ms/step - loss: 4.1309e-04 - mean_absolute_error: 0.0111\n",
      "Epoch 21/50\n",
      "23/23 [==============================] - 1s 38ms/step - loss: 3.9757e-04 - mean_absolute_error: 0.0105\n",
      "Epoch 22/50\n",
      "23/23 [==============================] - 1s 37ms/step - loss: 3.8834e-04 - mean_absolute_error: 0.0102\n",
      "Epoch 23/50\n",
      "23/23 [==============================] - 1s 39ms/step - loss: 3.8588e-04 - mean_absolute_error: 0.0102\n",
      "Epoch 24/50\n",
      "23/23 [==============================] - 1s 40ms/step - loss: 3.9314e-04 - mean_absolute_error: 0.0103\n",
      "Epoch 25/50\n",
      "23/23 [==============================] - 1s 37ms/step - loss: 3.8450e-04 - mean_absolute_error: 0.0101\n",
      "Epoch 26/50\n",
      "23/23 [==============================] - 1s 37ms/step - loss: 3.8863e-04 - mean_absolute_error: 0.0100\n",
      "Epoch 27/50\n",
      "23/23 [==============================] - 1s 37ms/step - loss: 3.6213e-04 - mean_absolute_error: 0.0093\n",
      "Epoch 28/50\n",
      "23/23 [==============================] - 1s 37ms/step - loss: 3.6401e-04 - mean_absolute_error: 0.0101\n",
      "Epoch 29/50\n",
      "23/23 [==============================] - 1s 38ms/step - loss: 3.6839e-04 - mean_absolute_error: 0.0098\n",
      "Epoch 30/50\n",
      "23/23 [==============================] - 1s 38ms/step - loss: 3.6594e-04 - mean_absolute_error: 0.0103\n",
      "Epoch 31/50\n",
      "23/23 [==============================] - 1s 37ms/step - loss: 3.7062e-04 - mean_absolute_error: 0.0107\n",
      "Epoch 32/50\n",
      "23/23 [==============================] - 1s 37ms/step - loss: 3.6017e-04 - mean_absolute_error: 0.0099\n",
      "Epoch 33/50\n",
      "23/23 [==============================] - 1s 36ms/step - loss: 3.7834e-04 - mean_absolute_error: 0.0099\n",
      "Epoch 34/50\n",
      "23/23 [==============================] - 1s 38ms/step - loss: 3.7084e-04 - mean_absolute_error: 0.0100\n",
      "Epoch 35/50\n",
      "23/23 [==============================] - 1s 38ms/step - loss: 3.5978e-04 - mean_absolute_error: 0.0095\n",
      "Epoch 36/50\n",
      "23/23 [==============================] - 1s 36ms/step - loss: 3.4862e-04 - mean_absolute_error: 0.0095\n",
      "Epoch 37/50\n",
      "23/23 [==============================] - 1s 37ms/step - loss: 3.6525e-04 - mean_absolute_error: 0.0103\n",
      "Epoch 38/50\n",
      "23/23 [==============================] - 1s 37ms/step - loss: 3.4782e-04 - mean_absolute_error: 0.0094\n",
      "Epoch 39/50\n",
      "23/23 [==============================] - 1s 43ms/step - loss: 3.4983e-04 - mean_absolute_error: 0.0098\n",
      "Epoch 40/50\n",
      "23/23 [==============================] - 1s 37ms/step - loss: 3.6991e-04 - mean_absolute_error: 0.0108\n",
      "Epoch 41/50\n",
      "23/23 [==============================] - 1s 40ms/step - loss: 3.5337e-04 - mean_absolute_error: 0.0108\n",
      "Epoch 42/50\n",
      "23/23 [==============================] - 1s 38ms/step - loss: 3.1718e-04 - mean_absolute_error: 0.0093\n",
      "Epoch 43/50\n",
      "23/23 [==============================] - 1s 39ms/step - loss: 3.2499e-04 - mean_absolute_error: 0.0099\n",
      "Epoch 44/50\n",
      "23/23 [==============================] - 1s 40ms/step - loss: 3.2388e-04 - mean_absolute_error: 0.0094\n",
      "Epoch 45/50\n",
      "23/23 [==============================] - 1s 39ms/step - loss: 3.1716e-04 - mean_absolute_error: 0.0092\n",
      "Epoch 46/50\n",
      "23/23 [==============================] - 1s 38ms/step - loss: 3.0931e-04 - mean_absolute_error: 0.0092\n",
      "Epoch 47/50\n",
      "23/23 [==============================] - 1s 39ms/step - loss: 3.0172e-04 - mean_absolute_error: 0.0089\n",
      "Epoch 48/50\n",
      "23/23 [==============================] - 1s 37ms/step - loss: 2.9119e-04 - mean_absolute_error: 0.0089\n",
      "Epoch 49/50\n",
      "23/23 [==============================] - 1s 39ms/step - loss: 2.9747e-04 - mean_absolute_error: 0.0094\n",
      "Epoch 50/50\n",
      "23/23 [==============================] - 1s 40ms/step - loss: 3.0426e-04 - mean_absolute_error: 0.0098\n"
     ]
    },
    {
     "data": {
      "text/plain": [
       "<keras.callbacks.History at 0x290b08bc610>"
      ]
     },
     "execution_count": 45,
     "metadata": {},
     "output_type": "execute_result"
    }
   ],
   "source": [
    "model.fit(train_x, train_y,epochs=50)"
   ]
  },
  {
   "cell_type": "code",
   "execution_count": 46,
   "metadata": {},
   "outputs": [],
   "source": [
    "test_predicted = model.predict(validation_x)"
   ]
  },
  {
   "cell_type": "code",
   "execution_count": 47,
   "metadata": {},
   "outputs": [],
   "source": [
    "gs_slic_data=pd.DataFrame(test_predicted,columns=['Predicted','Second'])"
   ]
  },
  {
   "cell_type": "code",
   "execution_count": 48,
   "metadata": {},
   "outputs": [],
   "source": [
    "True_price=pd.DataFrame(validation_y)"
   ]
  },
  {
   "cell_type": "code",
   "execution_count": 49,
   "metadata": {},
   "outputs": [],
   "source": [
    "gs_slic_data['True_Price']=True_price"
   ]
  },
  {
   "cell_type": "code",
   "execution_count": 50,
   "metadata": {},
   "outputs": [],
   "source": [
    "df_LSTM=df_LSTM.reset_index()"
   ]
  },
  {
   "cell_type": "code",
   "execution_count": 51,
   "metadata": {},
   "outputs": [],
   "source": [
    "df_LSTM['date']= df_LSTM['date'].dt.strftime('%m/%d/%Y')"
   ]
  },
  {
   "cell_type": "code",
   "execution_count": 52,
   "metadata": {},
   "outputs": [],
   "source": [
    "gs_slic_data[\"date\"]=df_LSTM['date'].iloc[-len(gs_slic_data):].values\n",
    "gs_slic_data[\"date\"]=pd.to_datetime(gs_slic_data[\"date\"])"
   ]
  },
  {
   "cell_type": "code",
   "execution_count": 53,
   "metadata": {},
   "outputs": [
    {
     "data": {
      "image/png": "[encoded data removed]",
      "text/plain": [
       "<Figure size 1008x360 with 1 Axes>"
      ]
     },
     "metadata": {
      "needs_background": "light"
     },
     "output_type": "display_data"
    }
   ],
   "source": [
    "plt.figure(figsize=(14, 5)) #width and height \n",
    "plt.plot(gs_slic_data['date'], gs_slic_data['True_Price'],label='True Avg NFT Price',color='#44355B' ); # add lable\n",
    "plt.plot(gs_slic_data['date'], gs_slic_data['Predicted'], label='Predicted Avg NFT Price', color='#ECA72C'); # use hex number for the color \n",
    "for pos in ['right', 'top', 'bottom', 'left']:\n",
    "   plt.gca().spines[pos].set_visible(False)\n",
    "plt.title('LTSM NFT Price Preditions',fontsize=15)\n",
    "plt.xlabel('Date',fontsize=15)\n",
    "plt.ylabel('Avg NFT Price',fontsize=15)\n",
    "plt.xticks(fontsize=15)\n",
    "plt.yticks(fontsize=15)\n",
    "plt.legend(frameon=False,fontsize=15); # dispaly legend \n",
    "plt.grid (axis='y', alpha=0.3) # you can add gridline  and alpha to increase transparency "
   ]
  },
  {
   "cell_type": "code",
   "execution_count": 54,
   "metadata": {},
   "outputs": [
    {
     "name": "stdout",
     "output_type": "stream",
     "text": [
      "Epoch 1/50\n",
      "23/23 [==============================] - 1s 35ms/step - loss: 2.8196e-04 - mean_absolute_error: 0.0089\n",
      "Epoch 2/50\n",
      "23/23 [==============================] - 1s 40ms/step - loss: 2.7250e-04 - mean_absolute_error: 0.0089\n",
      "Epoch 3/50\n",
      "23/23 [==============================] - 1s 41ms/step - loss: 2.6913e-04 - mean_absolute_error: 0.0087\n",
      "Epoch 4/50\n",
      "23/23 [==============================] - 1s 39ms/step - loss: 2.4798e-04 - mean_absolute_error: 0.0085\n",
      "Epoch 5/50\n",
      "23/23 [==============================] - 1s 37ms/step - loss: 2.5829e-04 - mean_absolute_error: 0.0087\n",
      "Epoch 6/50\n",
      "23/23 [==============================] - 1s 41ms/step - loss: 2.4968e-04 - mean_absolute_error: 0.0085\n",
      "Epoch 7/50\n",
      "23/23 [==============================] - 1s 41ms/step - loss: 2.3670e-04 - mean_absolute_error: 0.0083\n",
      "Epoch 8/50\n",
      "23/23 [==============================] - 1s 39ms/step - loss: 2.7201e-04 - mean_absolute_error: 0.0101\n",
      "Epoch 9/50\n",
      "23/23 [==============================] - 1s 38ms/step - loss: 2.3149e-04 - mean_absolute_error: 0.0080\n",
      "Epoch 10/50\n",
      "23/23 [==============================] - 1s 36ms/step - loss: 2.2340e-04 - mean_absolute_error: 0.0080\n",
      "Epoch 11/50\n",
      "23/23 [==============================] - 1s 38ms/step - loss: 2.3878e-04 - mean_absolute_error: 0.0086\n",
      "Epoch 12/50\n",
      "23/23 [==============================] - 1s 39ms/step - loss: 2.2200e-04 - mean_absolute_error: 0.0084\n",
      "Epoch 13/50\n",
      "23/23 [==============================] - 1s 37ms/step - loss: 2.1358e-04 - mean_absolute_error: 0.0084\n",
      "Epoch 14/50\n",
      "23/23 [==============================] - 1s 37ms/step - loss: 2.2341e-04 - mean_absolute_error: 0.0089\n",
      "Epoch 15/50\n",
      "23/23 [==============================] - 1s 38ms/step - loss: 2.1727e-04 - mean_absolute_error: 0.0082\n",
      "Epoch 16/50\n",
      "23/23 [==============================] - 1s 40ms/step - loss: 2.2464e-04 - mean_absolute_error: 0.0083\n",
      "Epoch 17/50\n",
      "23/23 [==============================] - 1s 37ms/step - loss: 2.1027e-04 - mean_absolute_error: 0.0077\n",
      "Epoch 18/50\n",
      "23/23 [==============================] - 1s 37ms/step - loss: 2.1228e-04 - mean_absolute_error: 0.0079\n",
      "Epoch 19/50\n",
      "23/23 [==============================] - 1s 38ms/step - loss: 1.9691e-04 - mean_absolute_error: 0.0078\n",
      "Epoch 20/50\n",
      "23/23 [==============================] - 1s 38ms/step - loss: 2.1416e-04 - mean_absolute_error: 0.0084\n",
      "Epoch 21/50\n",
      "23/23 [==============================] - 1s 39ms/step - loss: 2.1031e-04 - mean_absolute_error: 0.0083\n",
      "Epoch 22/50\n",
      "23/23 [==============================] - 1s 41ms/step - loss: 1.9013e-04 - mean_absolute_error: 0.0077\n",
      "Epoch 23/50\n",
      "23/23 [==============================] - 1s 37ms/step - loss: 2.0163e-04 - mean_absolute_error: 0.0080\n",
      "Epoch 24/50\n",
      "23/23 [==============================] - 1s 38ms/step - loss: 2.0876e-04 - mean_absolute_error: 0.0082\n",
      "Epoch 25/50\n",
      "23/23 [==============================] - 1s 37ms/step - loss: 2.1182e-04 - mean_absolute_error: 0.0081\n",
      "Epoch 26/50\n",
      "23/23 [==============================] - 1s 39ms/step - loss: 1.9272e-04 - mean_absolute_error: 0.0080\n",
      "Epoch 27/50\n",
      "23/23 [==============================] - 1s 37ms/step - loss: 1.9654e-04 - mean_absolute_error: 0.0080\n",
      "Epoch 28/50\n",
      "23/23 [==============================] - 1s 37ms/step - loss: 1.9283e-04 - mean_absolute_error: 0.0077\n",
      "Epoch 29/50\n",
      "23/23 [==============================] - 1s 37ms/step - loss: 2.0937e-04 - mean_absolute_error: 0.0077\n",
      "Epoch 30/50\n",
      "23/23 [==============================] - 1s 37ms/step - loss: 2.0361e-04 - mean_absolute_error: 0.0078\n",
      "Epoch 31/50\n",
      "23/23 [==============================] - 1s 40ms/step - loss: 1.9601e-04 - mean_absolute_error: 0.0076\n",
      "Epoch 32/50\n",
      "23/23 [==============================] - 1s 41ms/step - loss: 2.0772e-04 - mean_absolute_error: 0.0080\n",
      "Epoch 33/50\n",
      "23/23 [==============================] - 1s 38ms/step - loss: 2.0332e-04 - mean_absolute_error: 0.0080\n",
      "Epoch 34/50\n",
      "23/23 [==============================] - 1s 37ms/step - loss: 2.0848e-04 - mean_absolute_error: 0.0079\n",
      "Epoch 35/50\n",
      "23/23 [==============================] - 1s 37ms/step - loss: 2.0060e-04 - mean_absolute_error: 0.0080\n",
      "Epoch 36/50\n",
      "23/23 [==============================] - 1s 37ms/step - loss: 2.1091e-04 - mean_absolute_error: 0.0087\n",
      "Epoch 37/50\n",
      "23/23 [==============================] - 1s 36ms/step - loss: 2.0405e-04 - mean_absolute_error: 0.0078\n",
      "Epoch 38/50\n",
      "23/23 [==============================] - 1s 37ms/step - loss: 1.8406e-04 - mean_absolute_error: 0.0075\n",
      "Epoch 39/50\n",
      "23/23 [==============================] - 1s 37ms/step - loss: 1.9434e-04 - mean_absolute_error: 0.0078\n",
      "Epoch 40/50\n",
      "23/23 [==============================] - 1s 38ms/step - loss: 2.0714e-04 - mean_absolute_error: 0.0077\n",
      "Epoch 41/50\n",
      "23/23 [==============================] - 1s 37ms/step - loss: 1.8656e-04 - mean_absolute_error: 0.0073\n",
      "Epoch 42/50\n",
      "23/23 [==============================] - 1s 37ms/step - loss: 2.0569e-04 - mean_absolute_error: 0.0080\n",
      "Epoch 43/50\n",
      "23/23 [==============================] - 1s 37ms/step - loss: 1.9529e-04 - mean_absolute_error: 0.0080\n",
      "Epoch 44/50\n",
      "23/23 [==============================] - 1s 37ms/step - loss: 1.9377e-04 - mean_absolute_error: 0.0078\n",
      "Epoch 45/50\n",
      "23/23 [==============================] - 1s 36ms/step - loss: 2.0848e-04 - mean_absolute_error: 0.0083\n",
      "Epoch 46/50\n",
      "23/23 [==============================] - 1s 38ms/step - loss: 2.0525e-04 - mean_absolute_error: 0.0080\n",
      "Epoch 47/50\n",
      "23/23 [==============================] - 1s 40ms/step - loss: 1.9613e-04 - mean_absolute_error: 0.0079\n",
      "Epoch 48/50\n",
      "23/23 [==============================] - 1s 37ms/step - loss: 1.8786e-04 - mean_absolute_error: 0.0076\n",
      "Epoch 49/50\n",
      "23/23 [==============================] - 1s 38ms/step - loss: 1.8890e-04 - mean_absolute_error: 0.0078\n",
      "Epoch 50/50\n",
      "23/23 [==============================] - 1s 37ms/step - loss: 2.0334e-04 - mean_absolute_error: 0.0081\n"
     ]
    },
    {
     "data": {
      "text/plain": [
       "<keras.callbacks.History at 0x2919910bcd0>"
      ]
     },
     "execution_count": 54,
     "metadata": {},
     "output_type": "execute_result"
    }
   ],
   "source": [
    "model.fit(train_x, train_y,epochs=50)"
   ]
  },
  {
   "cell_type": "code",
   "execution_count": 55,
   "metadata": {},
   "outputs": [],
   "source": [
    "test_predictedTrain = model.predict(train_x)"
   ]
  },
  {
   "cell_type": "code",
   "execution_count": 56,
   "metadata": {},
   "outputs": [],
   "source": [
    "gs_slic_data1=pd.DataFrame(test_predictedTrain,columns=['Predicted','Second'])"
   ]
  },
  {
   "cell_type": "code",
   "execution_count": 57,
   "metadata": {},
   "outputs": [],
   "source": [
    "True_price=pd.DataFrame(train_y)"
   ]
  },
  {
   "cell_type": "code",
   "execution_count": 58,
   "metadata": {},
   "outputs": [],
   "source": [
    "gs_slic_data1['True_Price']=True_price"
   ]
  },
  {
   "cell_type": "code",
   "execution_count": 59,
   "metadata": {},
   "outputs": [],
   "source": [
    "gs_slic_data1[\"date\"]=df_LSTM['date'].iloc[:len(gs_slic_data1)].values\n",
    "gs_slic_data1[\"date\"]=pd.to_datetime(gs_slic_data1[\"date\"])"
   ]
  },
  {
   "cell_type": "code",
   "execution_count": 60,
   "metadata": {},
   "outputs": [
    {
     "data": {
      "image/png": "[encoded data removed]",
      "text/plain": [
       "<Figure size 1008x360 with 1 Axes>"
      ]
     },
     "metadata": {
      "needs_background": "light"
     },
     "output_type": "display_data"
    }
   ],
   "source": [
    "plt.figure(figsize=(14, 5)) #width and height \n",
    "plt.plot(gs_slic_data1['date'], gs_slic_data1['True_Price'],label='True Avg NFT Price',color='#44355B' ); # add lable\n",
    "plt.plot(gs_slic_data1['date'], gs_slic_data1['Predicted'], label='Predicted Avg NFT Price', color='#ECA72C'); # use hex number for the color \n",
    "for pos in ['right', 'top', 'bottom', 'left']:\n",
    "   plt.gca().spines[pos].set_visible(False)\n",
    "plt.title('LTSM NFT Price - Fitting the data (Trainning Period)',fontsize=15)\n",
    "plt.xlabel('Date',fontsize=15)\n",
    "plt.ylabel('Avg NFT Price',fontsize=15)\n",
    "plt.xticks(fontsize=15)\n",
    "plt.yticks(fontsize=15)\n",
    "plt.legend(frameon=False,fontsize=15); # dispaly legend \n",
    "plt.grid (axis='y', alpha=0.3) # you can add gridline  and alpha to increase transparency "
   ]
  },
  {
   "cell_type": "code",
   "execution_count": 61,
   "metadata": {},
   "outputs": [
    {
     "name": "stdout",
     "output_type": "stream",
     "text": [
      "Model: \"sequential_1\"\n",
      "_________________________________________________________________\n",
      " Layer (type)                Output Shape              Param #   \n",
      "=================================================================\n",
      " lstm_2 (LSTM)               (None, 45, 50)            11400     \n",
      "                                                                 \n",
      " dropout_1 (Dropout)         (None, 45, 50)            0         \n",
      "                                                                 \n",
      " lstm_3 (LSTM)               (None, 50)                20200     \n",
      "                                                                 \n",
      " dense_1 (Dense)             (None, 2)                 102       \n",
      "                                                                 \n",
      "=================================================================\n",
      "Total params: 31,702\n",
      "Trainable params: 31,702\n",
      "Non-trainable params: 0\n",
      "_________________________________________________________________\n"
     ]
    }
   ],
   "source": [
    "model2 = Sequential()\n",
    "model2.add(LSTM(units=50, return_sequences=True, input_shape = (train_x.shape[1:])))\n",
    "\n",
    "model2.add(Dropout(0.1)) \n",
    "model2.add(LSTM(units=50))\n",
    "\n",
    "model2.add(Dense(2))\n",
    "\n",
    "model2.compile(loss='mean_squared_error', optimizer='adam', metrics=['mean_absolute_error'])\n",
    "\n",
    "model2.summary()"
   ]
  },
  {
   "cell_type": "code",
   "execution_count": 62,
   "metadata": {},
   "outputs": [
    {
     "name": "stdout",
     "output_type": "stream",
     "text": [
      "Epoch 1/50\n",
      "19/19 [==============================] - 7s 42ms/step - loss: 3.0908e-04 - mean_absolute_error: 0.0104\n",
      "Epoch 2/50\n",
      "19/19 [==============================] - 1s 44ms/step - loss: 2.6505e-04 - mean_absolute_error: 0.0086\n",
      "Epoch 3/50\n",
      "19/19 [==============================] - 1s 41ms/step - loss: 2.6165e-04 - mean_absolute_error: 0.0084\n",
      "Epoch 4/50\n",
      "19/19 [==============================] - 1s 37ms/step - loss: 2.7230e-04 - mean_absolute_error: 0.0090\n",
      "Epoch 5/50\n",
      "19/19 [==============================] - 1s 42ms/step - loss: 2.6372e-04 - mean_absolute_error: 0.0087\n",
      "Epoch 6/50\n",
      "19/19 [==============================] - 1s 42ms/step - loss: 2.5942e-04 - mean_absolute_error: 0.0086\n",
      "Epoch 7/50\n",
      "19/19 [==============================] - 1s 42ms/step - loss: 2.5783e-04 - mean_absolute_error: 0.0085\n",
      "Epoch 8/50\n",
      "19/19 [==============================] - 1s 37ms/step - loss: 2.5820e-04 - mean_absolute_error: 0.0084\n",
      "Epoch 9/50\n",
      "19/19 [==============================] - 1s 37ms/step - loss: 2.5950e-04 - mean_absolute_error: 0.0085\n",
      "Epoch 10/50\n",
      "19/19 [==============================] - 1s 39ms/step - loss: 2.6533e-04 - mean_absolute_error: 0.0091\n",
      "Epoch 11/50\n",
      "19/19 [==============================] - 1s 38ms/step - loss: 2.6824e-04 - mean_absolute_error: 0.0087\n",
      "Epoch 12/50\n",
      "19/19 [==============================] - 1s 36ms/step - loss: 2.6492e-04 - mean_absolute_error: 0.0086\n",
      "Epoch 13/50\n",
      "19/19 [==============================] - 1s 39ms/step - loss: 2.6002e-04 - mean_absolute_error: 0.0086\n",
      "Epoch 14/50\n",
      "19/19 [==============================] - 1s 37ms/step - loss: 2.6019e-04 - mean_absolute_error: 0.0086\n",
      "Epoch 15/50\n",
      "19/19 [==============================] - 1s 37ms/step - loss: 2.6225e-04 - mean_absolute_error: 0.0087\n",
      "Epoch 16/50\n",
      "19/19 [==============================] - 1s 36ms/step - loss: 2.5961e-04 - mean_absolute_error: 0.0086\n",
      "Epoch 17/50\n",
      "19/19 [==============================] - 1s 39ms/step - loss: 2.5523e-04 - mean_absolute_error: 0.0086\n",
      "Epoch 18/50\n",
      "19/19 [==============================] - 1s 37ms/step - loss: 2.6257e-04 - mean_absolute_error: 0.0085\n",
      "Epoch 19/50\n",
      "19/19 [==============================] - 1s 36ms/step - loss: 2.6248e-04 - mean_absolute_error: 0.0089\n",
      "Epoch 20/50\n",
      "19/19 [==============================] - 1s 38ms/step - loss: 2.6150e-04 - mean_absolute_error: 0.0087\n",
      "Epoch 21/50\n",
      "19/19 [==============================] - 1s 36ms/step - loss: 2.5885e-04 - mean_absolute_error: 0.0084\n",
      "Epoch 22/50\n",
      "19/19 [==============================] - 1s 37ms/step - loss: 2.5358e-04 - mean_absolute_error: 0.0084\n",
      "Epoch 23/50\n",
      "19/19 [==============================] - 1s 36ms/step - loss: 2.5278e-04 - mean_absolute_error: 0.0083\n",
      "Epoch 24/50\n",
      "19/19 [==============================] - 1s 39ms/step - loss: 2.5501e-04 - mean_absolute_error: 0.0085\n",
      "Epoch 25/50\n",
      "19/19 [==============================] - 1s 37ms/step - loss: 2.5668e-04 - mean_absolute_error: 0.0086\n",
      "Epoch 26/50\n",
      "19/19 [==============================] - 1s 40ms/step - loss: 2.5335e-04 - mean_absolute_error: 0.0085\n",
      "Epoch 27/50\n",
      "19/19 [==============================] - 1s 37ms/step - loss: 2.5395e-04 - mean_absolute_error: 0.0084\n",
      "Epoch 28/50\n",
      "19/19 [==============================] - 1s 38ms/step - loss: 2.5207e-04 - mean_absolute_error: 0.0083\n",
      "Epoch 29/50\n",
      "19/19 [==============================] - 1s 40ms/step - loss: 2.4704e-04 - mean_absolute_error: 0.0083\n",
      "Epoch 30/50\n",
      "19/19 [==============================] - 1s 37ms/step - loss: 2.4996e-04 - mean_absolute_error: 0.0083\n",
      "Epoch 31/50\n",
      "19/19 [==============================] - 1s 37ms/step - loss: 2.5784e-04 - mean_absolute_error: 0.0086\n",
      "Epoch 32/50\n",
      "19/19 [==============================] - 1s 37ms/step - loss: 2.4541e-04 - mean_absolute_error: 0.0080\n",
      "Epoch 33/50\n",
      "19/19 [==============================] - 1s 37ms/step - loss: 2.5041e-04 - mean_absolute_error: 0.0085\n",
      "Epoch 34/50\n",
      "19/19 [==============================] - 1s 36ms/step - loss: 2.4684e-04 - mean_absolute_error: 0.0081\n",
      "Epoch 35/50\n",
      "19/19 [==============================] - 1s 37ms/step - loss: 2.4954e-04 - mean_absolute_error: 0.0085\n",
      "Epoch 36/50\n",
      "19/19 [==============================] - 1s 36ms/step - loss: 2.5059e-04 - mean_absolute_error: 0.0083\n",
      "Epoch 37/50\n",
      "19/19 [==============================] - 1s 37ms/step - loss: 2.4444e-04 - mean_absolute_error: 0.0084\n",
      "Epoch 38/50\n",
      "19/19 [==============================] - 1s 38ms/step - loss: 2.5317e-04 - mean_absolute_error: 0.0086\n",
      "Epoch 39/50\n",
      "19/19 [==============================] - 1s 37ms/step - loss: 2.5185e-04 - mean_absolute_error: 0.0085\n",
      "Epoch 40/50\n",
      "19/19 [==============================] - 1s 36ms/step - loss: 2.4847e-04 - mean_absolute_error: 0.0085\n",
      "Epoch 41/50\n",
      "19/19 [==============================] - 1s 38ms/step - loss: 2.4580e-04 - mean_absolute_error: 0.0082\n",
      "Epoch 42/50\n",
      "19/19 [==============================] - 1s 37ms/step - loss: 2.4381e-04 - mean_absolute_error: 0.0083\n",
      "Epoch 43/50\n",
      "19/19 [==============================] - 1s 39ms/step - loss: 2.4319e-04 - mean_absolute_error: 0.0080\n",
      "Epoch 44/50\n",
      "19/19 [==============================] - 1s 36ms/step - loss: 2.4125e-04 - mean_absolute_error: 0.0083\n",
      "Epoch 45/50\n",
      "19/19 [==============================] - 1s 40ms/step - loss: 2.4153e-04 - mean_absolute_error: 0.0082\n",
      "Epoch 46/50\n",
      "19/19 [==============================] - 1s 39ms/step - loss: 2.3694e-04 - mean_absolute_error: 0.0079\n",
      "Epoch 47/50\n",
      "19/19 [==============================] - 1s 38ms/step - loss: 2.4134e-04 - mean_absolute_error: 0.0083\n",
      "Epoch 48/50\n",
      "19/19 [==============================] - 1s 37ms/step - loss: 2.4286e-04 - mean_absolute_error: 0.0082\n",
      "Epoch 49/50\n",
      "19/19 [==============================] - 1s 38ms/step - loss: 2.3589e-04 - mean_absolute_error: 0.0080\n",
      "Epoch 50/50\n",
      "19/19 [==============================] - 1s 38ms/step - loss: 2.3405e-04 - mean_absolute_error: 0.0079\n"
     ]
    },
    {
     "data": {
      "text/plain": [
       "<keras.callbacks.History at 0x291990a5040>"
      ]
     },
     "execution_count": 62,
     "metadata": {},
     "output_type": "execute_result"
    }
   ],
   "source": [
    "model2.fit(train_x[100:], train_y[100:],epochs=50)"
   ]
  },
  {
   "cell_type": "code",
   "execution_count": 63,
   "metadata": {},
   "outputs": [],
   "source": [
    "test_predicted2 = model2.predict(validation_x[80:])"
   ]
  },
  {
   "cell_type": "code",
   "execution_count": 64,
   "metadata": {},
   "outputs": [],
   "source": [
    "gs_slic_data2=pd.DataFrame(test_predicted2,columns=['Predicted','Second'])"
   ]
  },
  {
   "cell_type": "code",
   "execution_count": 65,
   "metadata": {},
   "outputs": [],
   "source": [
    "True_price=pd.DataFrame(validation_y[80:])"
   ]
  },
  {
   "cell_type": "code",
   "execution_count": 66,
   "metadata": {},
   "outputs": [],
   "source": [
    "gs_slic_data2['True_Price']=True_price"
   ]
  },
  {
   "cell_type": "code",
   "execution_count": 67,
   "metadata": {},
   "outputs": [],
   "source": [
    "gs_slic_data2[\"date\"]=df_LSTM['date'].iloc[-len(gs_slic_data2):].values\n",
    "gs_slic_data2[\"date\"]=pd.to_datetime(gs_slic_data2[\"date\"])"
   ]
  },
  {
   "cell_type": "code",
   "execution_count": 70,
   "metadata": {},
   "outputs": [
    {
     "data": {
      "image/png": "[encoded data removed]",
      "text/plain": [
       "<Figure size 1008x360 with 1 Axes>"
      ]
     },
     "metadata": {
      "needs_background": "light"
     },
     "output_type": "display_data"
    }
   ],
   "source": [
    "plt.figure(figsize=(14, 5)) #width and height \n",
    "plt.plot(gs_slic_data2['date'], gs_slic_data2['True_Price'],label='True Avg NFT Price',color='#44355B' ); # add lable\n",
    "plt.plot(gs_slic_data2['date'], gs_slic_data2['Predicted'], label='Predicted Avg NFT Price', color='#ECA72C'); # use hex number for the color \n",
    "for pos in ['right', 'top', 'bottom', 'left']:\n",
    "   plt.gca().spines[pos].set_visible(False)\n",
    "plt.title('LTSM NFT Price - Predictions',fontsize=15)\n",
    "plt.xlabel('Date',fontsize=15)\n",
    "plt.ylabel('Avg NFT Price',fontsize=15)\n",
    "plt.xticks(fontsize=15)\n",
    "plt.yticks(fontsize=15)\n",
    "plt.legend(frameon=False,fontsize=15); # dispaly legend \n",
    "plt.grid (axis='y', alpha=0.3) # you can add gridline  and alpha to increase transparency "
   ]
  },
  {
   "cell_type": "code",
   "execution_count": null,
   "metadata": {},
   "outputs": [],
   "source": []
  }
 ],
 "metadata": {
  "kernelspec": {
   "display_name": "Python 3",
   "language": "python",
   "name": "python3"
  },
  "language_info": {
   "codemirror_mode": {
    "name": "ipython",
    "version": 3
   },
   "file_extension": ".py",
   "mimetype": "text/x-python",
   "name": "python",
   "nbconvert_exporter": "python",
   "pygments_lexer": "ipython3",
   "version": "3.8.3"
  }
 },
 "nbformat": 4,
 "nbformat_minor": 4
}
